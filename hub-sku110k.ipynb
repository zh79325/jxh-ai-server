{
  "cells": [
    {
      "cell_type": "markdown",
      "metadata": {
        "id": "view-in-github",
        "colab_type": "text"
      },
      "source": [
        "<a href=\"https://colab.research.google.com/github/zh79325/jxh-ai-server/blob/main/hub-sku110k.ipynb\" target=\"_parent\"><img src=\"https://colab.research.google.com/assets/colab-badge.svg\" alt=\"Open In Colab\"/></a>"
      ]
    },
    {
      "cell_type": "markdown",
      "metadata": {
        "id": "FIzICjaph_Wy"
      },
      "source": [
        "<a align=\"center\" href=\"https://ultralytics.com/hub\" target=\"_blank\">\n",
        "<img width=\"1024\", src=\"https://github.com/ultralytics/assets/raw/main/im/ultralytics-hub.png\"></a>\n",
        "\n",
        "<div align=\"center\">\n",
        "\n",
        "[中文](https://docs.ultralytics.com/zh/hub/) | [한국어](https://docs.ultralytics.com/ko/hub/) | [日本語](https://docs.ultralytics.com/ja/hub/) | [Русский](https://docs.ultralytics.com/ru/hub/) | [Deutsch](https://docs.ultralytics.com/de/hub/) | [Français](https://docs.ultralytics.com/fr/hub/) | [Español](https://docs.ultralytics.com/es/hub/) | [Português](https://docs.ultralytics.com/pt/hub/) | [Türkçe](https://docs.ultralytics.com/tr/hub/) | [Tiếng Việt](https://docs.ultralytics.com/vi/hub/) | [العربية](https://docs.ultralytics.com/ar/hub/)\n",
        "\n",
        "  <a href=\"https://github.com/ultralytics/hub/actions/workflows/ci.yaml\"><img src=\"https://github.com/ultralytics/hub/actions/workflows/ci.yaml/badge.svg\" alt=\"CI CPU\"></a>\n",
        "  <a href=\"https://colab.research.google.com/github/ultralytics/hub/blob/main/hub.ipynb\"><img src=\"https://colab.research.google.com/assets/colab-badge.svg\" alt=\"Open In Colab\"></a>\n",
        "\n",
        "  <a href=\"https://ultralytics.com/discord\"><img alt=\"Discord\" src=\"https://img.shields.io/discord/1089800235347353640?logo=discord&logoColor=white&label=Discord&color=blue\"></a>\n",
        "  <a href=\"https://community.ultralytics.com\"><img alt=\"Ultralytics Forums\" src=\"https://img.shields.io/discourse/users?server=https%3A%2F%2Fcommunity.ultralytics.com&logo=discourse&label=Forums&color=blue\"></a>\n",
        "  <a href=\"https://reddit.com/r/ultralytics\"><img alt=\"Ultralytics Reddit\" src=\"https://img.shields.io/reddit/subreddit-subscribers/ultralytics?style=flat&logo=reddit&logoColor=white&label=Reddit&color=blue\"></a>\n",
        "\n",
        "Welcome to the [Ultralytics](https://ultralytics.com/) HUB notebook!\n",
        "\n",
        "This notebook allows you to train Ultralytics [YOLO](https://github.com/ultralytics/ultralytics) 🚀 models using [HUB](https://hub.ultralytics.com/). Please browse the HUB <a href=\"https://docs.ultralytics.com/hub/\">Docs</a> for details, raise an issue on <a href=\"https://github.com/ultralytics/hub/issues/new/choose\">GitHub</a> for support, and join our <a href=\"https://ultralytics.com/discord\">Discord</a> community for questions and discussions!\n",
        "</div>"
      ]
    },
    {
      "cell_type": "markdown",
      "metadata": {
        "id": "eRQ2ow94MiOv"
      },
      "source": [
        "# 环境初始化\n",
        "\n",
        "Pip install `ultralytics` and [dependencies](https://github.com/ultralytics/ultralytics/blob/main/pyproject.toml) and check software and hardware.\n",
        "\n",
        "[![PyPI - Version](https://img.shields.io/pypi/v/ultralytics?logo=pypi&logoColor=white)](https://pypi.org/project/ultralytics/) [![Downloads](https://static.pepy.tech/badge/ultralytics)](https://www.pepy.tech/projects/ultralytics) [![PyPI - Python Version](https://img.shields.io/pypi/pyversions/ultralytics?logo=python&logoColor=gold)](https://pypi.org/project/ultralytics/)"
      ]
    },
    {
      "cell_type": "code",
      "execution_count": 1,
      "metadata": {
        "colab": {
          "base_uri": "https://localhost:8080/"
        },
        "id": "FyDnXd-n4c7Y",
        "outputId": "2bf59015-2334-4898-e21d-e29f88593211"
      },
      "outputs": [
        {
          "output_type": "stream",
          "name": "stdout",
          "text": [
            "Ultralytics 8.3.55 🚀 Python-3.10.12 torch-2.5.1+cpu CPU (AMD EPYC 7B13)\n",
            "Setup complete ✅ (24 CPUs, 47.1 GB RAM, 15.5/225.3 GB disk)\n",
            "Downloading https://github.com/zh79325/jxh-ai-server/archive/refs/heads/main.zip to '/content/codes/main.zip'...\n"
          ]
        },
        {
          "output_type": "stream",
          "name": "stderr",
          "text": [
            "293MB [00:16, 19.0MB/s]\n",
            "Unzipping /content/codes/main.zip to /content/codes/jxh-ai-server-main...: 100%|██████████| 63/63 [00:01<00:00, 32.62file/s]\n"
          ]
        }
      ],
      "source": [
        "import locale\n",
        "def getpreferredencoding(do_setlocale = True):\n",
        "    return \"UTF-8\"\n",
        "locale.getpreferredencoding = getpreferredencoding\n",
        "%pip install ultralytics  # install\n",
        "from ultralytics import YOLO, checks, hub\n",
        "from ultralytics.utils.files import WorkingDirectory\n",
        "from ultralytics.utils.downloads import download\n",
        "import shutil\n",
        "from pathlib import Path\n",
        "import os\n",
        "import numpy as np\n",
        "import pandas as pd\n",
        "from tqdm import tqdm\n",
        "checks()  # checks\n",
        "\n",
        "current = os.path.dirname(os.path.abspath('__file__'))\n",
        "parent = Path(current+'/codes')\n",
        "if  parent.exists():\n",
        "  shutil.rmtree(parent)\n",
        "os.makedirs(parent)\n",
        "download('https://github.com/zh79325/jxh-ai-server/archive/refs/heads/main.zip',dir=parent)\n",
        "\n"
      ]
    },
    {
      "cell_type": "markdown",
      "source": [
        "# 下载人工打标数据集\n"
      ],
      "metadata": {
        "id": "Rp-mvpaVwkGy"
      }
    },
    {
      "cell_type": "code",
      "source": [
        "import os.path\n",
        "import shutil\n",
        "from pathlib import Path\n",
        "\n",
        "import numpy as np\n",
        "import pandas as pd\n",
        "from tqdm import tqdm\n",
        "from ultralytics import YOLO\n",
        "from ultralytics.utils.downloads import download\n",
        "from ultralytics.utils.ops import xyxy2xywh\n",
        "import yaml\n",
        "\n",
        "current = os.path.dirname(os.path.abspath('__file__'))\n",
        "dir = Path(current+'/sku110k')  # dataset root dir\n",
        "parent = Path(dir.parent)  # download dir\n",
        "checks()  # checks\n",
        "urls = ['http://trax-geometry.s3.amazonaws.com/cvpr_challenge/SKU110K_fixed.tar.gz']\n",
        "download(urls, dir=parent)\n",
        "# Rename directories\n",
        "if dir.exists():\n",
        "    shutil.rmtree(dir)\n",
        "(parent / 'SKU110K_fixed').rename(dir)  # rename dir\n",
        "(dir / 'labels').mkdir(parents=True, exist_ok=True)  # create labels dir\n",
        "\n",
        "def formatN(n):\n",
        "    if n < 0:\n",
        "        return 0\n",
        "    elif n > 1:\n",
        "        return 1\n",
        "    else:\n",
        "        return n\n",
        "# Convert labels\n",
        "names = 'image', 'x1', 'y1', 'x2', 'y2', 'class', 'image_width', 'image_height'  # column names\n",
        "for d in 'annotations_train.csv', 'annotations_val.csv', 'annotations_test.csv':\n",
        "    x = pd.read_csv(dir / 'annotations' / d, names=names).values  # annotations\n",
        "    images, unique_images = x[:, 0], np.unique(x[:, 0])\n",
        "    with open((dir / d).with_suffix('.txt').__str__().replace('annotations_', ''), 'w') as f:\n",
        "        f.writelines(f'./images/{s}\\n' for s in unique_images)\n",
        "    for im in tqdm(unique_images, desc=f'Converting {dir / d}'):\n",
        "        cls = 0  # single-class dataset\n",
        "        with open((dir / 'labels' / im).with_suffix('.txt'), 'a') as f:\n",
        "            for r in x[images == im]:\n",
        "                w, h = r[6], r[7]  # image width, height\n",
        "                xywh = xyxy2xywh(np.array([[r[1] / w, r[2] / h, r[3] / w, r[4] / h]]))[0]  # instance\n",
        "                f.write(f\"{cls} {formatN(xywh[0]-xywh[2]/2):.5f} {formatN(xywh[1]-xywh[3]/2):.5f} {formatN(xywh[0]+xywh[2]-xywh[2]/2):.5f} {formatN(xywh[1]-xywh[3]/2):.5f} {formatN(xywh[0]+xywh[2]-xywh[2]/2):.5f} {formatN(xywh[1]+xywh[3]-xywh[3]/2):.5f} {formatN(xywh[0]-xywh[2]/2):.5f} {formatN(xywh[1]+xywh[3]-xywh[3]/2):.5f}\\n\")  # write label\n"
      ],
      "metadata": {
        "colab": {
          "base_uri": "https://localhost:8080/"
        },
        "id": "PE5AKmeGwugj",
        "outputId": "d197c006-bd25-4b5c-dc30-b51cdef6f211"
      },
      "execution_count": null,
      "outputs": [
        {
          "output_type": "stream",
          "name": "stdout",
          "text": [
            "Ultralytics 8.3.55 🚀 Python-3.10.12 torch-2.5.1+cpu CPU (AMD EPYC 7B13)\n",
            "Setup complete ✅ (24 CPUs, 47.1 GB RAM, 16.1/225.3 GB disk)\n",
            "Downloading http://trax-geometry.s3.amazonaws.com/cvpr_challenge/SKU110K_fixed.tar.gz to '/content/SKU110K_fixed.tar.gz'...\n"
          ]
        },
        {
          "output_type": "stream",
          "name": "stderr",
          "text": [
            " 17%|█▋        | 1.92G/11.4G [00:28<02:55, 57.8MB/s]"
          ]
        }
      ]
    },
    {
      "cell_type": "markdown",
      "source": [
        "# 模型训练"
      ],
      "metadata": {
        "id": "b-KH33khNINk"
      }
    },
    {
      "cell_type": "code",
      "source": [
        "import os\n",
        "import shutil\n",
        "import matplotlib as mpl\n",
        "import matplotlib.pyplot as plt\n",
        "from matplotlib.font_manager import fontManager\n",
        "import yaml\n",
        "from ultralytics import YOLO\n",
        "root = current+'/codes/jxh-ai-server-main/jxh-ai-models'\n",
        "mpl_data_path = mpl.get_data_path()\n",
        "mpl_fonts_folder = mpl_data_path + '/fonts/ttf'\n",
        "print(\"get_data_path=>\", mpl.get_data_path())\n",
        "if not os.path.exists(mpl_fonts_folder + '/SimHei.ttf'):\n",
        "    shutil.copyfile(root + '/SimHei.ttf', mpl_fonts_folder + '/SimHei.ttf')\n",
        "fontManager.addfont(mpl_fonts_folder + '/SimHei.ttf')\n",
        "plt.rcParams[\"font.family\"] = \"SimHei\"\n",
        "plt.rcParams['font.sans-serif'] = ['SimHei']  #用来正常显示中文标签\n",
        "plt.rcParams['axes.unicode_minus'] = False  #用来正常显示负号\n",
        "\n",
        "model_yaml = os.path.abspath(f'{current}/sku110k.yaml')\n",
        "labelList = ['object']\n",
        "data = dict(\n",
        "    path=current+'/sku110k',\n",
        "    train='train.txt',\n",
        "    val='val.txt',\n",
        "    test='test.txt',\n",
        "    nc=len(labelList),\n",
        "    names=labelList\n",
        ")\n",
        "with open(model_yaml, 'w') as outfile:\n",
        "  yaml.dump(data, outfile, default_flow_style=False)\n",
        "init_model=root+'/models/input/yolo11l-obb.pt'\n",
        "print('load init_model from =>',init_model)\n",
        "print('load model_yaml from =>',model_yaml)\n",
        "model = YOLO(init_model)  # build a new model from YAML\n",
        "results = model.train(data=model_yaml,batch=4, epochs=100, imgsz=640)"
      ],
      "metadata": {
        "colab": {
          "base_uri": "https://localhost:8080/"
        },
        "id": "xPprLgNKNPaY",
        "outputId": "ae1232fa-ddb3-4328-8636-94446b42d2b1"
      },
      "execution_count": null,
      "outputs": [
        {
          "output_type": "stream",
          "name": "stdout",
          "text": [
            "get_data_path=> /usr/local/lib/python3.10/dist-packages/matplotlib/mpl-data\n",
            "load init_model from => /content/codes/jxh-ai-server-main/jxh-ai-models/models/input/yolo11l-obb.pt\n",
            "load model_yaml from => /content/sku110k.yaml\n",
            "Ultralytics 8.3.55 🚀 Python-3.10.12 torch-2.5.1+cpu CPU (AMD EPYC 7B13)\n",
            "\u001b[34m\u001b[1mengine/trainer: \u001b[0mtask=obb, mode=train, model=/content/codes/jxh-ai-server-main/jxh-ai-models/models/input/yolo11l-obb.pt, data=/content/sku110k.yaml, epochs=100, time=None, patience=100, batch=4, imgsz=640, save=True, save_period=-1, cache=False, device=None, workers=8, project=None, name=train5, exist_ok=False, pretrained=True, optimizer=auto, verbose=True, seed=0, deterministic=True, single_cls=False, rect=False, cos_lr=False, close_mosaic=10, resume=False, amp=True, fraction=1.0, profile=False, freeze=None, multi_scale=False, overlap_mask=True, mask_ratio=4, dropout=0.0, val=True, split=val, save_json=False, save_hybrid=False, conf=None, iou=0.7, max_det=300, half=False, dnn=False, plots=True, source=None, vid_stride=1, stream_buffer=False, visualize=False, augment=False, agnostic_nms=False, classes=None, retina_masks=False, embed=None, show=False, save_frames=False, save_txt=False, save_conf=False, save_crop=False, show_labels=True, show_conf=True, show_boxes=True, line_width=None, format=torchscript, keras=False, optimize=False, int8=False, dynamic=False, simplify=True, opset=None, workspace=None, nms=False, lr0=0.01, lrf=0.01, momentum=0.937, weight_decay=0.0005, warmup_epochs=3.0, warmup_momentum=0.8, warmup_bias_lr=0.1, box=7.5, cls=0.5, dfl=1.5, pose=12.0, kobj=1.0, nbs=64, hsv_h=0.015, hsv_s=0.7, hsv_v=0.4, degrees=0.0, translate=0.1, scale=0.5, shear=0.0, perspective=0.0, flipud=0.0, fliplr=0.5, bgr=0.0, mosaic=1.0, mixup=0.0, copy_paste=0.0, copy_paste_mode=flip, auto_augment=randaugment, erasing=0.4, crop_fraction=1.0, cfg=None, tracker=botsort.yaml, save_dir=runs/obb/train5\n",
            "Overriding model.yaml nc=80 with nc=1\n",
            "\n",
            "                   from  n    params  module                                       arguments                     \n",
            "  0                  -1  1      1856  ultralytics.nn.modules.conv.Conv             [3, 64, 3, 2]                 \n",
            "  1                  -1  1     73984  ultralytics.nn.modules.conv.Conv             [64, 128, 3, 2]               \n",
            "  2                  -1  2    173824  ultralytics.nn.modules.block.C3k2            [128, 256, 2, True, 0.25]     \n",
            "  3                  -1  1    590336  ultralytics.nn.modules.conv.Conv             [256, 256, 3, 2]              \n",
            "  4                  -1  2    691712  ultralytics.nn.modules.block.C3k2            [256, 512, 2, True, 0.25]     \n",
            "  5                  -1  1   2360320  ultralytics.nn.modules.conv.Conv             [512, 512, 3, 2]              \n",
            "  6                  -1  2   2234368  ultralytics.nn.modules.block.C3k2            [512, 512, 2, True]           \n",
            "  7                  -1  1   2360320  ultralytics.nn.modules.conv.Conv             [512, 512, 3, 2]              \n",
            "  8                  -1  2   2234368  ultralytics.nn.modules.block.C3k2            [512, 512, 2, True]           \n",
            "  9                  -1  1    656896  ultralytics.nn.modules.block.SPPF            [512, 512, 5]                 \n",
            " 10                  -1  2   1455616  ultralytics.nn.modules.block.C2PSA           [512, 512, 2]                 \n",
            " 11                  -1  1         0  torch.nn.modules.upsampling.Upsample         [None, 2, 'nearest']          \n",
            " 12             [-1, 6]  1         0  ultralytics.nn.modules.conv.Concat           [1]                           \n",
            " 13                  -1  2   2496512  ultralytics.nn.modules.block.C3k2            [1024, 512, 2, True]          \n",
            " 14                  -1  1         0  torch.nn.modules.upsampling.Upsample         [None, 2, 'nearest']          \n",
            " 15             [-1, 4]  1         0  ultralytics.nn.modules.conv.Concat           [1]                           \n",
            " 16                  -1  2    756736  ultralytics.nn.modules.block.C3k2            [1024, 256, 2, True]          \n",
            " 17                  -1  1    590336  ultralytics.nn.modules.conv.Conv             [256, 256, 3, 2]              \n",
            " 18            [-1, 13]  1         0  ultralytics.nn.modules.conv.Concat           [1]                           \n",
            " 19                  -1  2   2365440  ultralytics.nn.modules.block.C3k2            [768, 512, 2, True]           \n",
            " 20                  -1  1   2360320  ultralytics.nn.modules.conv.Conv             [512, 512, 3, 2]              \n",
            " 21            [-1, 10]  1         0  ultralytics.nn.modules.conv.Concat           [1]                           \n",
            " 22                  -1  2   2496512  ultralytics.nn.modules.block.C3k2            [1024, 512, 2, True]          \n",
            " 23        [16, 19, 22]  1   2260630  ultralytics.nn.modules.head.OBB              [1, 1, [256, 512, 512]]       \n",
            "YOLO11l-obb summary: 656 layers, 26,160,086 parameters, 26,160,070 gradients, 91.0 GFLOPs\n",
            "\n",
            "Transferred 1051/1057 items from pretrained weights\n",
            "\u001b[34m\u001b[1mTensorBoard: \u001b[0mStart with 'tensorboard --logdir runs/obb/train5', view at http://localhost:6006/\n",
            "Freezing layer 'model.23.dfl.conv.weight'\n"
          ]
        },
        {
          "output_type": "stream",
          "name": "stderr",
          "text": [
            "\u001b[34m\u001b[1mtrain: \u001b[0mScanning /content/sku110k/labels... 8216 images, 0 backgrounds, 3 corrupt: 100%|██████████| 8219/8219 [01:49<00:00, 74.95it/s]"
          ]
        },
        {
          "output_type": "stream",
          "name": "stdout",
          "text": [
            "\u001b[34m\u001b[1mtrain: \u001b[0mWARNING ⚠️ /content/sku110k/images/train_1797.jpg: 3 duplicate labels removed\n",
            "\u001b[34m\u001b[1mtrain: \u001b[0mWARNING ⚠️ /content/sku110k/images/train_4222.jpg: ignoring corrupt image/label: image file is truncated (23 bytes not processed)\n",
            "\u001b[34m\u001b[1mtrain: \u001b[0mWARNING ⚠️ /content/sku110k/images/train_882.jpg: ignoring corrupt image/label: image file is truncated (3 bytes not processed)\n",
            "\u001b[34m\u001b[1mtrain: \u001b[0mWARNING ⚠️ /content/sku110k/images/train_924.jpg: ignoring corrupt image/label: image file is truncated (10 bytes not processed)\n"
          ]
        },
        {
          "output_type": "stream",
          "name": "stderr",
          "text": [
            "\n"
          ]
        },
        {
          "output_type": "stream",
          "name": "stdout",
          "text": [
            "\u001b[34m\u001b[1mtrain: \u001b[0mNew cache created: /content/sku110k/labels.cache\n"
          ]
        },
        {
          "output_type": "stream",
          "name": "stderr",
          "text": [
            "\u001b[34m\u001b[1mval: \u001b[0mScanning /content/sku110k/labels... 588 images, 0 backgrounds, 0 corrupt: 100%|██████████| 588/588 [00:06<00:00, 96.29it/s]\n"
          ]
        },
        {
          "output_type": "stream",
          "name": "stdout",
          "text": [
            "\u001b[34m\u001b[1mval: \u001b[0mNew cache created: /content/sku110k/labels.cache\n",
            "Plotting labels to runs/obb/train5/labels.jpg... \n",
            "\u001b[34m\u001b[1moptimizer:\u001b[0m 'optimizer=auto' found, ignoring 'lr0=0.01' and 'momentum=0.937' and determining best 'optimizer', 'lr0' and 'momentum' automatically... \n",
            "\u001b[34m\u001b[1moptimizer:\u001b[0m SGD(lr=0.01, momentum=0.9) with parameter groups 173 weight(decay=0.0), 183 weight(decay=0.0005), 182 bias(decay=0.0)\n",
            "\u001b[34m\u001b[1mTensorBoard: \u001b[0mmodel graph visualization added ✅\n",
            "Image sizes 640 train, 640 val\n",
            "Using 0 dataloader workers\n",
            "Logging results to \u001b[1mruns/obb/train5\u001b[0m\n",
            "Starting training for 100 epochs...\n",
            "\n",
            "      Epoch    GPU_mem   box_loss   cls_loss   dfl_loss  Instances       Size\n"
          ]
        },
        {
          "output_type": "stream",
          "name": "stderr",
          "text": [
            "      1/100         0G      2.578      3.523      2.771       1255        640:   0%|          | 5/2054 [00:18<2:04:24,  3.64s/it]"
          ]
        }
      ]
    },
    {
      "cell_type": "markdown",
      "source": [],
      "metadata": {
        "id": "qxtstgQmK-Ss"
      }
    },
    {
      "cell_type": "code",
      "source": [
        "import torch\n",
        "device = torch.device('cuda' if torch.cuda.is_available() else 'cpu')\n",
        "print(f\"Using device: {device}\")\n",
        "if device.type == 'cuda':\n",
        "       print(f\"GPU index: {torch.cuda.current_device()}\")\n",
        "\n",
        "if torch.cuda.is_available():\n",
        "        num_gpus = torch.cuda.device_count()\n",
        "        print(f\"Number of GPUs available: {num_gpus}\")\n",
        "        for i in range(num_gpus):\n",
        "            print(f\"GPU {i}: {torch.cuda.get_device_name(i)}\")\n"
      ],
      "metadata": {
        "colab": {
          "base_uri": "https://localhost:8080/"
        },
        "id": "FlqHkSkoVvL-",
        "outputId": "b12a286a-3d9d-4f4d-fe42-c6a63d903207"
      },
      "execution_count": null,
      "outputs": [
        {
          "output_type": "stream",
          "name": "stdout",
          "text": [
            "Using device: cuda\n",
            "GPU index: 0\n",
            "Number of GPUs available: 1\n",
            "GPU 0: Tesla T4\n"
          ]
        }
      ]
    }
  ],
  "metadata": {
    "accelerator": "TPU",
    "colab": {
      "name": "Ultralytics HUB",
      "provenance": [],
      "machine_shape": "hm",
      "gpuType": "V5E1",
      "include_colab_link": true
    },
    "kernelspec": {
      "display_name": "Python 3",
      "name": "python3"
    },
    "language_info": {
      "name": "python"
    }
  },
  "nbformat": 4,
  "nbformat_minor": 0
}